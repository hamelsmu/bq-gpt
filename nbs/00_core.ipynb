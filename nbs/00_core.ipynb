{
 "cells": [
  {
   "cell_type": "markdown",
   "metadata": {},
   "source": [
    "# core\n",
    "\n",
    "> Fill in a module description here"
   ]
  },
  {
   "cell_type": "code",
   "execution_count": null,
   "metadata": {},
   "outputs": [],
   "source": [
    "#| default_exp core"
   ]
  },
  {
   "cell_type": "code",
   "execution_count": null,
   "metadata": {},
   "outputs": [],
   "source": [
    "#| hide\n",
    "import os\n",
    "import openai\n",
    "from fastcore.all import AttrDict, maybe_attr\n",
    "from IPython.core.magic import register_cell_magic\n",
    "openai.api_key = os.getenv(\"OPENAI_API_KEY\")"
   ]
  },
  {
   "cell_type": "code",
   "execution_count": null,
   "metadata": {},
   "outputs": [],
   "source": [
    "context = \"\"\"\n",
    "These tables are stored in Google BigQuery, All of the tables are listed below, along with a json extract of the first two rows.  The pattern is:\n",
    "\n",
    "Query\n",
    "----\n",
    "Results\n",
    "\n",
    "SELECT * FROM `bigquery-public-data.github_repos.commits` LIMIT 2\n",
    "----\n",
    "[{\n",
    "  \"commit\": \"aa358905a1b12c6fa43b6e877e907fc9d36ff0b9\",\n",
    "  \"tree\": \"df3f8bf61bf1cb0dff3a86ebe18671792c2d4f27\",\n",
    "  \"parent\": [\"ea230a45a0e97e4d95b5f7fae9ce7ef659b60291\"],\n",
    "  \"author\": {\n",
    "    \"name\": \"conda-forge-coordinator\",\n",
    "    \"email\": \"e5ec32c8593b6ea3202de4b38c1a852e362e575b@gmail.com\",\n",
    "    \"time_sec\": \"1647357073\",\n",
    "    \"tz_offset\": \"0\",\n",
    "    \"date\": {\n",
    "      \"seconds\": \"1647357073\",\n",
    "      \"nanos\": null\n",
    "    }\n",
    "  },\n",
    "  \"committer\": {\n",
    "    \"name\": \"conda-forge-coordinator\",\n",
    "    \"email\": \"e5ec32c8593b6ea3202de4b38c1a852e362e575b@gmail.com\",\n",
    "    \"time_sec\": \"1647357073\",\n",
    "    \"tz_offset\": \"0\",\n",
    "    \"date\": {\n",
    "      \"seconds\": \"1647357073\",\n",
    "      \"nanos\": null\n",
    "    }\n",
    "  },\n",
    "  \"subject\": \"Updated the qcengine feedstock.\",\n",
    "  \"message\": \"Updated the qcengine feedstock.\",\n",
    "  \"trailer\": [],\n",
    "  \"difference\": [],\n",
    "  \"difference_truncated\": \"true\",\n",
    "  \"repo_name\": [\"conda-forge/feedstocks\"],\n",
    "  \"encoding\": null\n",
    "}, {\n",
    "  \"commit\": \"5a6b6d6d29489f8587b247313804d70c45d0981f\",\n",
    "  \"tree\": \"ff89accb7e283ca88027d790cdb8bacf373895ab\",\n",
    "  \"parent\": [\"4ee369feb64ee97d71da732da0e78477efbadd76\", \"6aae5a3059865fa85940e1af13157920ba2efb5e\"],\n",
    "  \"author\": {\n",
    "    \"name\": \"Rob Allen\",\n",
    "    \"email\": \"7e09c9d3e96378bf549fc283fd6e1e5b7014cc33@akrabat.com\",\n",
    "    \"time_sec\": \"1323443117\",\n",
    "    \"tz_offset\": \"0\",\n",
    "    \"date\": {\n",
    "      \"seconds\": \"1323443117\",\n",
    "      \"nanos\": null\n",
    "    }\n",
    "  },\n",
    "  \"committer\": {\n",
    "    \"name\": \"Rob Allen\",\n",
    "    \"email\": \"7e09c9d3e96378bf549fc283fd6e1e5b7014cc33@akrabat.com\",\n",
    "    \"time_sec\": \"1323443117\",\n",
    "    \"tz_offset\": \"0\",\n",
    "    \"date\": {\n",
    "      \"seconds\": \"1323443117\",\n",
    "      \"nanos\": null\n",
    "    }\n",
    "  },\n",
    "  \"subject\": \"Merge remote-tracking branch \\u0027weierophinney/hotfix/amf-authentication\\u0027\",\n",
    "  \"message\": \"Merge remote-tracking branch \\u0027weierophinney/hotfix/amf-authentication\\u0027\\n\",\n",
    "  \"trailer\": [],\n",
    "  \"difference\": [],\n",
    "  \"difference_truncated\": null,\n",
    "  \"repo_name\": [\"MadCat34/zend-escaper\", \"Maks3w/zend-escaper\", \"zendframework/zend-escaper\"],\n",
    "  \"encoding\": null\n",
    "}]\n",
    "\n",
    "SELECT * FROM `bigquery-public-data.github_repos.contents` LIMIT 2\n",
    "----\n",
    "[{\n",
    "  \"id\": \"ee4a3a38b49a6e43cef4c734b45f698a350d6ba0\",\n",
    "  \"size\": \"40365\",\n",
    "  \"content\": null,\n",
    "  \"binary\": \"true\",\n",
    "  \"copies\": \"1\"\n",
    "}, {\n",
    "  \"id\": \"d84baedb35d259fb6a165bc9e989367bf5add523\",\n",
    "  \"size\": \"84150\",\n",
    "  \"content\": null,\n",
    "  \"binary\": \"true\",\n",
    "  \"copies\": \"1\"\n",
    "}]\n",
    "\n",
    "SELECT * FROM `bigquery-public-data.github_repos.files` LIMIT 2\n",
    "----\n",
    "[{\n",
    "  \"repo_name\": \"nicolasbracigliano/NB-Site\",\n",
    "  \"ref\": \"refs/heads/gh-pages\",\n",
    "  \"path\": \"node_modules/fsevents/node_modules/.bin/rimraf\",\n",
    "  \"mode\": \"40960\",\n",
    "  \"id\": \"4cd49a49ddfc17a0c038a9c11d3abbb8181dc025\",\n",
    "  \"symlink_target\": \"../rimraf/bin.js\"\n",
    "}, {\n",
    "  \"repo_name\": \"nicolasbracigliano/NB-Site\",\n",
    "  \"ref\": \"refs/heads/gh-pages\",\n",
    "  \"path\": \"node_modules/fsevents/node_modules/.bin/sshpk-conv\",\n",
    "  \"mode\": \"40960\",\n",
    "  \"id\": \"a2a295c8014c8c4fb4d0a35adf4567bd52cd82e4\",\n",
    "  \"symlink_target\": \"../sshpk/bin/sshpk-conv\"\n",
    "}]\n",
    "\n",
    "SELECT * FROM `bigquery-public-data.github_repos.languages` LIMIT 2\n",
    "----\n",
    "[{\n",
    "  \"repo_name\": \"lemi136/puntovent\",\n",
    "  \"language\": [{\n",
    "    \"name\": \"C\",\n",
    "    \"bytes\": \"80\"\n",
    "  }]\n",
    "}, {\n",
    "  \"repo_name\": \"taxigps/nctool\",\n",
    "  \"language\": [{\n",
    "    \"name\": \"C\",\n",
    "    \"bytes\": \"4461\"\n",
    "  }]\n",
    "}]\n",
    "\n",
    "SELECT * FROM `bigquery-public-data.github_repos.licenses` LIMIT 2\n",
    "----\n",
    "[{\n",
    "  \"repo_name\": \"autarch/Dist-Zilla-Plugin-Test-TidyAll\",\n",
    "  \"license\": \"artistic-2.0\"\n",
    "}, {\n",
    "  \"repo_name\": \"thundergnat/Prime-Factor\",\n",
    "  \"license\": \"artistic-2.0\"\n",
    "}]\n",
    "\n",
    "Given these tables and schema, please construct a SQL query in BigQuery that answers the following question:\n",
    "\n",
    "\"\"\""
   ]
  },
  {
   "cell_type": "code",
   "execution_count": null,
   "metadata": {},
   "outputs": [],
   "source": [
    "#| export\n",
    "def chat(query):\n",
    "    completion = AttrDict(openai.ChatCompletion.create(\n",
    "      model=\"gpt-3.5-turbo\",\n",
    "      messages=[\n",
    "        {\"role\": \"user\", \n",
    "         \"content\": f\"{context} {query}\"}]))\n",
    "    if hasattr(completion, 'choices'):\n",
    "        return completion.choices[0].message.content.strip()\n",
    "    else: None\n"
   ]
  },
  {
   "cell_type": "code",
   "execution_count": null,
   "metadata": {},
   "outputs": [
    {
     "data": {
      "text/plain": [
       "'As an AI language model, I do not have feelings. Is there a specific question about the GitHub repositories dataset that you would like me to help you with?'"
      ]
     },
     "execution_count": null,
     "metadata": {},
     "output_type": "execute_result"
    }
   ],
   "source": [
    "chat(\"How are you feeling?\")"
   ]
  },
  {
   "cell_type": "code",
   "execution_count": null,
   "metadata": {},
   "outputs": [],
   "source": [
    "#|export\n",
    "@register_cell_magic\n",
    "def bq(line, cell):\n",
    "    \"Ask BigQuery A Question\"\n",
    "    question = cell.strip()\n",
    "    print(chat(question))"
   ]
  },
  {
   "cell_type": "code",
   "execution_count": null,
   "metadata": {},
   "outputs": [
    {
     "name": "stdout",
     "output_type": "stream",
     "text": [
      "SELECT license, COUNT(*) AS count\n",
      "FROM `bigquery-public-data.github_repos.licenses`\n",
      "GROUP BY license\n",
      "ORDER BY count DESC\n",
      "LIMIT 1\n"
     ]
    }
   ],
   "source": [
    "%%bq\n",
    "\n",
    "What is the most popular kind of license on GitHub?"
   ]
  },
  {
   "cell_type": "code",
   "execution_count": null,
   "metadata": {},
   "outputs": [
    {
     "name": "stdout",
     "output_type": "stream",
     "text": [
      "SELECT author.name AS committer, COUNT(*) AS commits_count\n",
      "FROM `bigquery-public-data.github_repos.commits`\n",
      "GROUP BY committer\n",
      "ORDER BY commits_count DESC\n",
      "LIMIT 10\n"
     ]
    }
   ],
   "source": [
    "%%bq\n",
    "\n",
    "Who are the top 10 most committers on GitHub?"
   ]
  },
  {
   "cell_type": "code",
   "execution_count": null,
   "metadata": {},
   "outputs": [
    {
     "name": "stdout",
     "output_type": "stream",
     "text": [
      "SELECT COUNT(*) as num_python_files\n",
      "FROM `bigquery-public-data.github_repos.files`\n",
      "WHERE RIGHT(path, 3) = '.py'\n",
      "AND repo_name IN (\n",
      "  SELECT repo_name\n",
      "  FROM `bigquery-public-data.github_repos.licenses`\n",
      "  WHERE license = 'mit'\n",
      ")\n"
     ]
    }
   ],
   "source": [
    "%%bq \n",
    "\n",
    "How many python files are there on GitHub in mit licensed repos?"
   ]
  },
  {
   "cell_type": "code",
   "execution_count": null,
   "metadata": {},
   "outputs": [],
   "source": []
  }
 ],
 "metadata": {
  "kernelspec": {
   "display_name": "python3",
   "language": "python",
   "name": "python3"
  }
 },
 "nbformat": 4,
 "nbformat_minor": 4
}
